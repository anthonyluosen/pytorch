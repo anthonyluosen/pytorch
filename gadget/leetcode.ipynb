{
 "cells": [
  {
   "cell_type": "markdown",
   "metadata": {},
   "source": [
    "### Given an m x n grid of characters board and a string word, return true if word exists in the grid.\n",
    "\n",
    "The word can be constructed from letters of sequentially adjacent cells, where adjacent cells are horizontally or vertically neighboring. The same letter cell may not be used more than once.\n",
    "image.png"
   ]
  },
  {
   "cell_type": "code",
   "execution_count": 11,
   "metadata": {},
   "outputs": [],
   "source": [
    "class Solution(object):\n",
    "    def exist(self, board, word):\n",
    "        if not word:\n",
    "            return True\n",
    "        if not board:\n",
    "            return False\n",
    "        for i in range(len(board)):\n",
    "            for j in range(len(board[0])):\n",
    "                if self.exist_helper(board, word, i, j):\n",
    "                    return True\n",
    "        return False\n",
    "                    \n",
    "    def exist_helper(self, board, word, i, j):\n",
    "        if board[i][j] == word[0]:\n",
    "            if not word[1:]:\n",
    "                return True\n",
    "            board[i][j] = \" \" # indicate used cell\n",
    "            # check all adjacent cells\n",
    "            if i > 0 and self.exist_helper(board, word[1:], i-1, j):\n",
    "                return True\n",
    "            if i < len(board)-1 and self.exist_helper(board, word[1:], i+1, j):\n",
    "                return True\n",
    "            if j > 0 and self.exist_helper(board, word[1:], i, j-1):\n",
    "                return True\n",
    "            if j < len(board[0])-1 and self.exist_helper(board, word[1:], i, j+1):\n",
    "                return True\n",
    "            board[i][j] = word[0] # update the cell to its original value\n",
    "            return False\n",
    "        else:\n",
    "            return False"
   ]
  },
  {
   "cell_type": "code",
   "execution_count": 24,
   "metadata": {},
   "outputs": [],
   "source": [
    "class Solution:\n",
    "    def exist(self,board,word):\n",
    "        if not board:\n",
    "            return False\n",
    "        if not word:\n",
    "            return False\n",
    "        for i in range(len(board)):\n",
    "            for j in range(len(board[0])):\n",
    "                if self.helper(board,word,i,j):\n",
    "                    return True\n",
    "        return False\n",
    "    def helper(self,board,word,i,j):\n",
    "        if board[i][j]==word[0]:\n",
    "            if not word[1:]:\n",
    "                return True\n",
    "            board[i][j] = ' '\n",
    "            \n",
    "            if i>0 and self.helper(board,word[1:],i-1,j):\n",
    "                return True\n",
    "            if j>0 and self.helper(board,word[1:],i,j-1):\n",
    "                return True\n",
    "            if i<len(board)-1 and self.helper(board,word[1:],i+1,j):\n",
    "                return True\n",
    "            if j<len(board[0])-1 and self.helper(board,word[1:],i,j+1):\n",
    "                return True\n",
    "            board[i][j] = word[0]\n",
    "            return False\n",
    "        else:\n",
    "            return False"
   ]
  },
  {
   "cell_type": "code",
   "execution_count": 25,
   "metadata": {},
   "outputs": [
    {
     "data": {
      "text/plain": [
       "True"
      ]
     },
     "execution_count": 25,
     "metadata": {},
     "output_type": "execute_result"
    }
   ],
   "source": [
    "board = [[\"A\",\"B\",\"C\",\"E\"],[\"S\",\"F\",\"C\",\"S\"],[\"A\",\"D\",\"E\",\"E\"]]\n",
    "word = \"ABCCED\"\n",
    "a = Solution()\n",
    "a.exist(board=board,word=word)"
   ]
  },
  {
   "cell_type": "markdown",
   "metadata": {},
   "source": [
    "Given n non-negative integers representing an elevation map where the width of each bar is 1, compute how much water it can trap after raining.\n",
    "Explanation: The above elevation map (black section) is represented by array [0,1,0,2,1,0,1,3,2,1,2,1]. In this case, 6 units of rain water (blue section) are being trapped.<br>\n",
    "Input: height = [0,1,0,2,1,0,1,3,2,1,2,1]\n",
    "Output: 6<br>\n",
    "Explanation: The above elevation map (black section) is represented by array [0,1,0,2,1,0,1,3,2,1,2,1]. In this case, 6 units of rain water (blue section) are being trapped.\n"
   ]
  },
  {
   "cell_type": "code",
   "execution_count": 7,
   "metadata": {},
   "outputs": [],
   "source": [
    "class Solution(object):\n",
    "    def trap(self, height):\n",
    "        \"\"\"\n",
    "        :type height: List[int]\n",
    "        :rtype: int\n",
    "        \"\"\"\n",
    "        r_max = height[-1]\n",
    "        l_max = height[0]\n",
    "        r_id,l_id = len(height)-1,0\n",
    "        res = 0\n",
    "        while r_id > l_id:\n",
    "            if r_max > l_max: # move left to the right\n",
    "               l_id +=1 \n",
    "               l_max = max(height[l_id],l_max)\n",
    "               res += l_max-height[l_id]\n",
    "               \n",
    "            else: # move right max to the left\n",
    "                r_id -=1\n",
    "                r_max = max(height[r_id],r_max)\n",
    "                res += r_max - height[r_id]\n",
    "                \n",
    "        return res\n",
    "            \n",
    "            "
   ]
  },
  {
   "cell_type": "code",
   "execution_count": 8,
   "metadata": {},
   "outputs": [
    {
     "data": {
      "text/plain": [
       "6"
      ]
     },
     "execution_count": 8,
     "metadata": {},
     "output_type": "execute_result"
    }
   ],
   "source": [
    "height = [0,1,0,2,1,0,1,3,2,1,2,1]\n",
    "method = Solution()\n",
    "method.trap(height=height)"
   ]
  },
  {
   "cell_type": "markdown",
   "metadata": {},
   "source": [
    "62. Unique Paths<br>\n",
    "There is a robot on an m x n grid. The robot is initially located at the top-left corner (i.e., grid[0][0]). The robot tries to move to the bottom-right corner (i.e., grid[m - 1][n - 1]). The robot can only move either down or right at any point in time.\n",
    "\n",
    "Given the two integers m and n, return the number of possible unique paths that the robot can take to reach the bottom-right corner."
   ]
  },
  {
   "cell_type": "code",
   "execution_count": 1,
   "metadata": {},
   "outputs": [],
   "source": [
    "class Solution(object):\n",
    "    def uniquePaths(self, m, n):\n",
    "        \"\"\"\n",
    "        :type m: int\n",
    "        :type n: int\n",
    "        :rtype: int\n",
    "        \"\"\"\n",
    "        # dp = [[0 for i in range(n)] for j in range(m) ]\n",
    "        # for i in range(m):\n",
    "        #     dp[i][0] = 1\n",
    "        # for j in range(n):\n",
    "        #     dp[0][j] =1\n",
    "        # for i in range(1,m):\n",
    "        #     for j in range(1,n):\n",
    "        #         dp[i][j] = dp[i-1][j] +dp[i][j-1]\n",
    "        # return dp[-1][-1]\n",
    "        ## o(n) space\n",
    "        dp = [1] *n\n",
    "        for i in range(1,m):\n",
    "            for j in range(1,n):\n",
    "                dp[j] += dp[j-1]\n",
    "        return dp[-1]"
   ]
  },
  {
   "cell_type": "code",
   "execution_count": 2,
   "metadata": {},
   "outputs": [
    {
     "data": {
      "text/plain": [
       "561428737123442557515768147446838128803874435166727897300042610148602485205158769299582985472739216066380634992597054002998755585863302660343639458855790152465291334719844406602840255517195628175384328514516928614144901077703443037312894949589509166289610174180317147127409643022180027481296530353512936235524693976403557347008557963023426968314364394885860745939056985624702233125769139842765677276066783452315603157047252479417698966966560941979591409618426096668005613845093157619640438923334312430580089701544142874827892258479478872231611346480011464779030693747319190080901095622388827583513978133459267054330733623692816539255131906123874958179270982239860590458701492078347096852509039337646837058288749301010954305424228787724290344140380798690471227526542633083812484691377500523347164564380075342665379358185133474139352092733476135309259112505205582485519132621291291417821633042021117846011873144403048780729902254682899246844137912863383378681898093357794652605607447377218364146299679075394348633974087452920479880655205868656773635491072204143414411133286828982774513852990929517618599494659044823698489020855628403032112842445421330574062334362481816709348863699133451395714132588243891931243629413947654553309214619155746845987753491150775660965175240225714648276640994940960228403767381011533148469652463354270599845930999585801159568532037757154228063023000670188839152965034615237908189412842967426827268908816846060898624501689431181039032127079077610157708868737617398204025646703220516556099552889416383856014006279729879179746178502433533776020668038800675703566649506217553210711742769998938509180816378233061286966716098832095305186716653330091712774514097959930174172712137315919845489213571815999059873145591357669436618874918263288317324102942096987141780232657280301644740446871031796783395443203167032196562199118700235092230510736652486557910162410228648785866278531756560445370729777381720950391853311969791603088501696120475095206485983748559618819309331983304867546023326475130256251299549706329758743432835362657684633972516666982499318838184829338308799970584668586883999615582403181936594780871992374748186701101054272374289546472139662875068726352721564480976430396385350966794641543524355381681690639176800514858137871521421484699890570256658553598877960401760823601278713272824958943574608438659799598452695379404304278749833857317931762009111165435219157910696604757801638567434844978649356260474245603103033993768281929976707602588162199906864053909840422005577626659362266873807967612690525199191641257723638058662773790038135816065135185200315619652387704730621722894436632864849940478529977259029783844574913794109093323329914750100200672116966870899213607088100157054515956962255321427280088413695736743804159063030860810728179862876011433202705143940128089429729404692821041959237783144153742147367647559791190760322872800734361621938650939396849598991119393486645886661148938594683489307442134222513141529208538598408188595878503061568673530135041955847637004411226756586664036208243000263895613973288329303377731337637856895804382380746366676229049241806316684491490392312074090881517529136277518030128425934420107181334120527372633246081630981304086193473651358667118949891073410566033630045641884735185119564242476630117608637871296615723213828711630372935853834822063502365565127587799796404983547421843259724551705389369279379520410863235673376757431426805431245926771033653088765419474695987633904387498637866330005246695959187404036029974840036973384725724079671765609491484686685209383451505758976540906620938600554332210533759512723200740988204599488704036341908636392029869603730266682212819410782509141469040705942892184011654211220794094805599709569850712008294974372222209033058053368676264802523906202198880563293952312598305327961469419584326300334360998313750344611517321150529826201895312173794203186666525965633546761557741337270607184245954463313734009447841625646107997204042601161680093995798833977178637237678759202007984461411525167941238890046175534636136216543894090195242476415157248646635015300318500092026690519914300638502215780096611026800805351211363487032746600838124615452960491356538390022552767136127278020125725876293502473386519705226432116416804857215926343523526508093481853143247890208707635214225118180478466595117112356073219629913169323777375776719099057474231434174190894700318538231350703259080769601761072244562506894066956718149593750166307761623959426890789400710812002961837007904271812549851185676761359627403146512762132450852685327173042028251218446664043511237337459506484528998669988076456078816518710099453387253862390810192188148374490427568588209028605505225902777012787124427353427734983374153588679314114775021804136730604133099181593644646174676479488151272866283957070435253315320967006887563998942969548760728929199946775359756870338830411455064294540647979984290604536388378549920634425431341272483892939591061905896747542293578476233738669924147525058240655639456487481185159386735906394545373309351609764514527579412884646904786749408113640602073140971309650658740366988279835893859230452888207471643692917462587384688543709941531988590337988272728660652953996231901585858400049898411094288358560296846267268729897091527390043885218703903692179120832145066793026668575651836557573797733271732055236477324193147682518273085727493551140496386806769030805837895068431996035812888670537716282247175941336073536880248388023542487787756834576810404924858435436769219753109096118712166082815750351162772974086456125953004558138739173873621467674620356743587351776660131725385849437396492733773981757319276228792315801218228889023938305008311980771571912452497026521545510343927170453058559526807943918732210385450119479075769510963933949876086259746512521817755090221236096232299080056831107233526742564701144904740815665641962472095901402541434531226709281912314683800727312424821117290700656954527483242161904562902187168559045792551349820922472620994312434442912783026024823038491799800344623896066416800000"
      ]
     },
     "execution_count": 2,
     "metadata": {},
     "output_type": "execute_result"
    }
   ],
   "source": [
    "# Input: m = 10000, n = 10000\n",
    "# Output: 28\n",
    "m,n = 10000,10000\n",
    "solution = Solution()\n",
    "solution.uniquePaths(m,n)"
   ]
  },
  {
   "cell_type": "markdown",
   "metadata": {},
   "source": [
    "63. Unique Paths II\n"
   ]
  },
  {
   "cell_type": "code",
   "execution_count": null,
   "metadata": {},
   "outputs": [],
   "source": [
    "# Input: obstacleGrid = [[0,0,0],[0,1,0],[0,0,0]]\n",
    "# Output: 2"
   ]
  },
  {
   "cell_type": "code",
   "execution_count": 12,
   "metadata": {},
   "outputs": [],
   "source": [
    "class Solution(object):\n",
    "    def uniquePathsWithObstacles(self, obstacleGrid):\n",
    "        \"\"\"\n",
    "        :type obstacleGrid: List[List[int]]\n",
    "        :rtype: int\n",
    "        \"\"\"\n",
    "        m,n = len(obstacleGrid), len(obstacleGrid[0])\n",
    "        dp = [[0 for i in range(n)] for j in range(m)]\n",
    "        for i in range(m):\n",
    "            if obstacleGrid[i][0]==0:\n",
    "                dp[i][0] = 1\n",
    "            else:\n",
    "                break\n",
    "        for j in range(n):\n",
    "            if obstacleGrid[0][j]==0:\n",
    "                dp[0][j] = 1\n",
    "            else:\n",
    "                break\n",
    "        for i in range(1,m):\n",
    "            for j in range(1,n):\n",
    "                if obstacleGrid[i][j]==1:\n",
    "                    dp[i][j]=0\n",
    "                else:\n",
    "                    dp[i][j] = dp[i-1][j] +dp[i][j-1]\n",
    "        return dp[-1][-1]"
   ]
  },
  {
   "cell_type": "code",
   "execution_count": 13,
   "metadata": {},
   "outputs": [
    {
     "data": {
      "text/plain": [
       "1"
      ]
     },
     "execution_count": 13,
     "metadata": {},
     "output_type": "execute_result"
    }
   ],
   "source": [
    "# obstacleGrid = [[0,0,0],[0,1,0],[0,0,0]]\n",
    "obstacleGrid = [[0,1],[0,0]]\n",
    "solution = Solution()\n",
    "solution.uniquePathsWithObstacles(obstacleGrid)"
   ]
  },
  {
   "cell_type": "code",
   "execution_count": null,
   "metadata": {},
   "outputs": [],
   "source": []
  }
 ],
 "metadata": {
  "interpreter": {
   "hash": "5179d32cf6ec497baf3f8a3ef987cc77c5d2dc691fdde20a56316522f61a7323"
  },
  "kernelspec": {
   "display_name": "Python 3.9.7 64-bit",
   "language": "python",
   "name": "python3"
  },
  "language_info": {
   "codemirror_mode": {
    "name": "ipython",
    "version": 3
   },
   "file_extension": ".py",
   "mimetype": "text/x-python",
   "name": "python",
   "nbconvert_exporter": "python",
   "pygments_lexer": "ipython3",
   "version": "3.9.7"
  },
  "orig_nbformat": 4
 },
 "nbformat": 4,
 "nbformat_minor": 2
}
