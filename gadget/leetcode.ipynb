{
 "cells": [
  {
   "cell_type": "markdown",
   "metadata": {},
   "source": [
    "### Given an m x n grid of characters board and a string word, return true if word exists in the grid.\n",
    "\n",
    "The word can be constructed from letters of sequentially adjacent cells, where adjacent cells are horizontally or vertically neighboring. The same letter cell may not be used more than once.\n",
    "image.png"
   ]
  },
  {
   "cell_type": "code",
   "execution_count": 11,
   "metadata": {},
   "outputs": [],
   "source": [
    "class Solution(object):\n",
    "    def exist(self, board, word):\n",
    "        if not word:\n",
    "            return True\n",
    "        if not board:\n",
    "            return False\n",
    "        for i in range(len(board)):\n",
    "            for j in range(len(board[0])):\n",
    "                if self.exist_helper(board, word, i, j):\n",
    "                    return True\n",
    "        return False\n",
    "                    \n",
    "    def exist_helper(self, board, word, i, j):\n",
    "        if board[i][j] == word[0]:\n",
    "            if not word[1:]:\n",
    "                return True\n",
    "            board[i][j] = \" \" # indicate used cell\n",
    "            # check all adjacent cells\n",
    "            if i > 0 and self.exist_helper(board, word[1:], i-1, j):\n",
    "                return True\n",
    "            if i < len(board)-1 and self.exist_helper(board, word[1:], i+1, j):\n",
    "                return True\n",
    "            if j > 0 and self.exist_helper(board, word[1:], i, j-1):\n",
    "                return True\n",
    "            if j < len(board[0])-1 and self.exist_helper(board, word[1:], i, j+1):\n",
    "                return True\n",
    "            board[i][j] = word[0] # update the cell to its original value\n",
    "            return False\n",
    "        else:\n",
    "            return False"
   ]
  },
  {
   "cell_type": "code",
   "execution_count": 24,
   "metadata": {},
   "outputs": [],
   "source": [
    "class Solution:\n",
    "    def exist(self,board,word):\n",
    "        if not board:\n",
    "            return False\n",
    "        if not word:\n",
    "            return False\n",
    "        for i in range(len(board)):\n",
    "            for j in range(len(board[0])):\n",
    "                if self.helper(board,word,i,j):\n",
    "                    return True\n",
    "        return False\n",
    "    def helper(self,board,word,i,j):\n",
    "        if board[i][j]==word[0]:\n",
    "            if not word[1:]:\n",
    "                return True\n",
    "            board[i][j] = ' '\n",
    "            \n",
    "            if i>0 and self.helper(board,word[1:],i-1,j):\n",
    "                return True\n",
    "            if j>0 and self.helper(board,word[1:],i,j-1):\n",
    "                return True\n",
    "            if i<len(board)-1 and self.helper(board,word[1:],i+1,j):\n",
    "                return True\n",
    "            if j<len(board[0])-1 and self.helper(board,word[1:],i,j+1):\n",
    "                return True\n",
    "            board[i][j] = word[0]\n",
    "            return False\n",
    "        else:\n",
    "            return False"
   ]
  },
  {
   "cell_type": "code",
   "execution_count": 25,
   "metadata": {},
   "outputs": [
    {
     "data": {
      "text/plain": [
       "True"
      ]
     },
     "execution_count": 25,
     "metadata": {},
     "output_type": "execute_result"
    }
   ],
   "source": [
    "board = [[\"A\",\"B\",\"C\",\"E\"],[\"S\",\"F\",\"C\",\"S\"],[\"A\",\"D\",\"E\",\"E\"]]\n",
    "word = \"ABCCED\"\n",
    "a = Solution()\n",
    "a.exist(board=board,word=word)"
   ]
  },
  {
   "cell_type": "markdown",
   "metadata": {},
   "source": [
    "Given n non-negative integers representing an elevation map where the width of each bar is 1, compute how much water it can trap after raining.\n",
    "Explanation: The above elevation map (black section) is represented by array [0,1,0,2,1,0,1,3,2,1,2,1]. In this case, 6 units of rain water (blue section) are being trapped.<br>\n",
    "Input: height = [0,1,0,2,1,0,1,3,2,1,2,1]\n",
    "Output: 6<br>\n",
    "Explanation: The above elevation map (black section) is represented by array [0,1,0,2,1,0,1,3,2,1,2,1]. In this case, 6 units of rain water (blue section) are being trapped.\n"
   ]
  },
  {
   "cell_type": "code",
   "execution_count": 7,
   "metadata": {},
   "outputs": [],
   "source": [
    "class Solution(object):\n",
    "    def trap(self, height):\n",
    "        \"\"\"\n",
    "        :type height: List[int]\n",
    "        :rtype: int\n",
    "        \"\"\"\n",
    "        r_max = height[-1]\n",
    "        l_max = height[0]\n",
    "        r_id,l_id = len(height)-1,0\n",
    "        res = 0\n",
    "        while r_id > l_id:\n",
    "            if r_max > l_max: # move left to the right\n",
    "               l_id +=1 \n",
    "               l_max = max(height[l_id],l_max)\n",
    "               res += l_max-height[l_id]\n",
    "               \n",
    "            else: # move right max to the left\n",
    "                r_id -=1\n",
    "                r_max = max(height[r_id],r_max)\n",
    "                res += r_max - height[r_id]\n",
    "                \n",
    "        return res\n",
    "            \n",
    "            "
   ]
  },
  {
   "cell_type": "code",
   "execution_count": 8,
   "metadata": {},
   "outputs": [
    {
     "data": {
      "text/plain": [
       "6"
      ]
     },
     "execution_count": 8,
     "metadata": {},
     "output_type": "execute_result"
    }
   ],
   "source": [
    "height = [0,1,0,2,1,0,1,3,2,1,2,1]\n",
    "method = Solution()\n",
    "method.trap(height=height)"
   ]
  },
  {
   "cell_type": "code",
   "execution_count": null,
   "metadata": {},
   "outputs": [],
   "source": []
  }
 ],
 "metadata": {
  "interpreter": {
   "hash": "5179d32cf6ec497baf3f8a3ef987cc77c5d2dc691fdde20a56316522f61a7323"
  },
  "kernelspec": {
   "display_name": "Python 3.9.7 64-bit",
   "language": "python",
   "name": "python3"
  },
  "language_info": {
   "codemirror_mode": {
    "name": "ipython",
    "version": 3
   },
   "file_extension": ".py",
   "mimetype": "text/x-python",
   "name": "python",
   "nbconvert_exporter": "python",
   "pygments_lexer": "ipython3",
   "version": "3.9.7"
  },
  "orig_nbformat": 4
 },
 "nbformat": 4,
 "nbformat_minor": 2
}
