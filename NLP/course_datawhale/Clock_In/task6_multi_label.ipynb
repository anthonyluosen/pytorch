{
 "cells": [
  {
   "cell_type": "code",
   "execution_count": 5,
   "metadata": {},
   "outputs": [],
   "source": [
    "import torch\n",
    "from torchtext.legacy import data\n",
    "from torchtext.legacy import datasets\n",
    "import random\n",
    "seed = 111\n",
    "torch.manual_seed(seed)\n",
    "torch.backends.cudnn.deterministic = True\n",
    "\n",
    "text = data.Field(tokenize = 'spacy' , tokenizer_language = 'en_core_web_sm')\n",
    "label = data.LabelField()\n",
    "\n",
    "train_data, test_data = datasets.TREC.splits(text, label, fine_grained=False)\n",
    "\n",
    "train_data, valid_data = train_data.split(random_state = random.seed(seed))"
   ]
  },
  {
   "cell_type": "code",
   "execution_count": 8,
   "metadata": {},
   "outputs": [
    {
     "data": {
      "text/plain": [
       "{'text': ['How',\n",
       "  'many',\n",
       "  'rows',\n",
       "  'of',\n",
       "  'sprocket',\n",
       "  'holes',\n",
       "  'does',\n",
       "  'a',\n",
       "  'roll',\n",
       "  'of',\n",
       "  '35',\n",
       "  '-',\n",
       "  'millimeter',\n",
       "  'film',\n",
       "  'have',\n",
       "  '?'],\n",
       " 'label': 'NUM'}"
      ]
     },
     "execution_count": 8,
     "metadata": {},
     "output_type": "execute_result"
    }
   ],
   "source": [
    "vars(train_data[-1])"
   ]
  },
  {
   "cell_type": "code",
   "execution_count": 10,
   "metadata": {},
   "outputs": [],
   "source": [
    "MAX_VOCAB_SIZE = 25_000\n",
    "\n",
    "text.build_vocab(train_data, \n",
    "                 max_size = MAX_VOCAB_SIZE, \n",
    "                 vectors = \"glove.6B.100d\", \n",
    "                 unk_init = torch.Tensor.normal_)\n",
    "\n",
    "label.build_vocab(train_data)"
   ]
  },
  {
   "cell_type": "code",
   "execution_count": 19,
   "metadata": {},
   "outputs": [],
   "source": [
    "# set the iterator \n",
    "batch_size = 64\n",
    "device = torch.device('cuda' if torch.cuda.is_available() else 'cpu')\n",
    "train_iterator , valid_iterator , test_iterator = data.BucketIterator.splits(\n",
    "(train_data , valid_data, test_data) , \n",
    "batch_size = batch_size, \n",
    "    device = device\n",
    ")"
   ]
  },
  {
   "cell_type": "code",
   "execution_count": 17,
   "metadata": {},
   "outputs": [
    {
     "data": {
      "text/plain": [
       "{'freqs': Counter({'ABBR': 64,\n",
       "          'ENTY': 868,\n",
       "          'HUM': 854,\n",
       "          'DESC': 803,\n",
       "          'LOC': 596,\n",
       "          'NUM': 631}),\n",
       " 'itos': ['ENTY', 'HUM', 'DESC', 'NUM', 'LOC', 'ABBR'],\n",
       " 'unk_index': None,\n",
       " 'stoi': defaultdict(None,\n",
       "             {'ENTY': 0, 'HUM': 1, 'DESC': 2, 'NUM': 3, 'LOC': 4, 'ABBR': 5}),\n",
       " 'vectors': None}"
      ]
     },
     "execution_count": 17,
     "metadata": {},
     "output_type": "execute_result"
    }
   ],
   "source": [
    "vars(label.vocab)"
   ]
  },
  {
   "cell_type": "code",
   "execution_count": 82,
   "metadata": {},
   "outputs": [],
   "source": [
    "import torch\n",
    "import torch.nn as nn\n",
    "import torch.nn.functional as F\n",
    "\n",
    "class CNN(nn.Module):\n",
    "    def __init__(self, vocab_size , embedding_dim, dropout, pad_idx, \n",
    "                output_dim, n_filters, kernels):\n",
    "        super().__init__()\n",
    "        self.embedding = nn.Embedding(vocab_size,embedding_dim, padding_idx = pad_idx)\n",
    "        self.conv = nn.ModuleList([nn.Conv2d(in_channels = 1,\n",
    "                                            out_channels = n_filters , \n",
    "                                            kernel_size = (fs , embedding_dim)) for fs in kernels])\n",
    "        self.fc = nn.Linear(len(kernels)*n_filters, output_dim )\n",
    "        self.dropout = nn.Dropout(dropout)\n",
    "    def forward(self, x):\n",
    "        \n",
    "        x = x.permute(1 , 0)\n",
    "        # [batch size , sen len ]\n",
    "        x = self.embedding(x)\n",
    "        # [ batch size , sen len , embedding dim ]\n",
    "        x = x.unsqueeze(1)\n",
    "        # [batch size , 1 , sen len , embedding dim]\n",
    "        x = [F.relu(f(x)).squeeze(3) for f in self.conv]\n",
    "        # [ batch size , n_filters , sen len -n_kernel_size +1]\n",
    "        pooled = [F.max_pool1d(conv , conv.shape[2]).squeeze(2) for conv in x]\n",
    "        #pooled = [batch size , n_filters]\n",
    "        \n",
    "        cat = self.dropout(torch.cat(pooled , dim=1))\n",
    "        #return [batch size , n_filters*len(filters_size)]\n",
    "        return self.fc(cat)\n",
    "    "
   ]
  },
  {
   "cell_type": "code",
   "execution_count": 41,
   "metadata": {},
   "outputs": [],
   "source": []
  },
  {
   "cell_type": "code",
   "execution_count": 83,
   "metadata": {},
   "outputs": [],
   "source": [
    "input_dim = len(text.vocab)\n",
    "output_dim = 10\n",
    "kernel_sizes = [2,3,4]\n",
    "embedding_dim = 100\n",
    "n_filters = 80\n",
    "dropout = 0.4\n",
    "pad_idx = text.vocab.stoi[text.pad_token]\n",
    "model =CNN(input_dim, embedding_dim, dropout, pad_idx, output_dim, \n",
    "                 n_filters, kernel_sizes)\n",
    "#  vocab_size , embedding_dim, dropout, pad_idx, \n",
    "#                 output_dim, n_filters, kernels)"
   ]
  },
  {
   "cell_type": "code",
   "execution_count": 84,
   "metadata": {},
   "outputs": [
    {
     "name": "stdout",
     "output_type": "stream",
     "text": [
      "The model has 821,650 trainable parameters\n"
     ]
    }
   ],
   "source": [
    "def count_parameters(model):\n",
    "    return sum(p.numel() for p in model.parameters() if p.requires_grad)\n",
    "\n",
    "print(f'The model has {count_parameters(model):,} trainable parameters')"
   ]
  },
  {
   "cell_type": "code",
   "execution_count": 85,
   "metadata": {},
   "outputs": [
    {
     "data": {
      "text/plain": [
       "tensor([[-1.2634, -0.2391,  0.3198,  ...,  1.5451, -1.3952,  1.9205],\n",
       "        [ 1.0707, -0.6284, -0.8112,  ...,  0.9490,  0.5720,  1.2499],\n",
       "        [ 0.1638,  0.6046,  1.0789,  ..., -0.3140,  0.1844,  0.3624],\n",
       "        ...,\n",
       "        [-0.6763,  0.1671,  0.9469,  ..., -0.3254, -0.2345,  0.2310],\n",
       "        [-0.0515, -0.3798, -0.5699,  ..., -0.0349,  0.3298,  1.1395],\n",
       "        [ 0.0091,  0.2810,  0.7356,  ..., -0.7508,  0.8967, -0.7631]])"
      ]
     },
     "execution_count": 85,
     "metadata": {},
     "output_type": "execute_result"
    }
   ],
   "source": [
    "#load the pre_train embedding into the model\n",
    "pretrained_embeddings = text.vocab.vectors\n",
    "\n",
    "model.embedding.weight.data.copy_(pretrained_embeddings)"
   ]
  },
  {
   "cell_type": "code",
   "execution_count": 86,
   "metadata": {},
   "outputs": [],
   "source": [
    "UNK_IDX = text.vocab.stoi[text.unk_token]\n",
    "\n",
    "model.embedding.weight.data[UNK_IDX] = torch.zeros(embedding_dim)\n",
    "model.embedding.weight.data[pad_idx] = torch.zeros(embedding_dim)"
   ]
  },
  {
   "cell_type": "code",
   "execution_count": 87,
   "metadata": {},
   "outputs": [],
   "source": [
    "import torch.optim as optim\n",
    "criterion = nn.CrossEntropyLoss()\n",
    "optimizer = optim.Adam(model.parameters())\n",
    "model = model.to(device)\n",
    "criterion = criterion.to(device)"
   ]
  },
  {
   "cell_type": "code",
   "execution_count": 88,
   "metadata": {},
   "outputs": [],
   "source": [
    "def categorical_accuracy(preds, y):\n",
    "    \"\"\"\n",
    "    Returns accuracy per batch, i.e. if you get 8/10 right, this returns 0.8, NOT 8\n",
    "    \"\"\"\n",
    "    top_pred = preds.argmax(1, keepdim = True)\n",
    "    correct = top_pred.eq(y.view_as(top_pred)).sum()\n",
    "    acc = correct.float() / y.shape[0]\n",
    "    return acc"
   ]
  },
  {
   "cell_type": "code",
   "execution_count": 89,
   "metadata": {},
   "outputs": [
    {
     "data": {
      "text/plain": [
       "device(type='cpu')"
      ]
     },
     "execution_count": 89,
     "metadata": {},
     "output_type": "execute_result"
    }
   ],
   "source": [
    "import torch\n",
    "device = torch.device('cuda' if torch.cuda.is_available() else 'cpu')\n",
    "device"
   ]
  },
  {
   "cell_type": "code",
   "execution_count": 90,
   "metadata": {},
   "outputs": [],
   "source": [
    "def train(model , train_iterator , optimizer , criterion):\n",
    "    epoch_loss = 0\n",
    "    epoch_acc = 0\n",
    "    \n",
    "    model.train()\n",
    "    for batch in train_iterator:\n",
    "        optimizer.zero_grad()\n",
    "        predictions = model(batch.text)\n",
    "        loss = criterion(predictions , batch.label)\n",
    "        acc = categorical_accuracy(predictions , batch.label)\n",
    "        loss.backward()\n",
    "        optimizer.step()\n",
    "        epoch_loss +=loss.item()\n",
    "        epoch_acc += acc.item()\n",
    "    return epoch_loss/len(train_iterator) , epoch_acc/len(train_iterator)\n"
   ]
  },
  {
   "cell_type": "code",
   "execution_count": 91,
   "metadata": {},
   "outputs": [],
   "source": [
    "def evaluate(model, iterator, criterion):\n",
    "    \n",
    "    epoch_loss = 0\n",
    "    epoch_acc = 0\n",
    "    \n",
    "    model.eval()\n",
    "    \n",
    "    with torch.no_grad():\n",
    "    \n",
    "        for batch in iterator:\n",
    "\n",
    "            predictions = model(batch.text)\n",
    "            \n",
    "            loss = criterion(predictions, batch.label)\n",
    "            \n",
    "            acc = categorical_accuracy(predictions, batch.label)\n",
    "\n",
    "            epoch_loss += loss.item()\n",
    "            epoch_acc += acc.item()\n",
    "        \n",
    "    return epoch_loss / len(iterator), epoch_acc / len(iterator)"
   ]
  },
  {
   "cell_type": "code",
   "execution_count": 92,
   "metadata": {},
   "outputs": [],
   "source": [
    "import time\n",
    "\n",
    "def epoch_time(start_time, end_time):\n",
    "    elapsed_time = end_time - start_time\n",
    "    elapsed_mins = int(elapsed_time / 60)\n",
    "    elapsed_secs = int(elapsed_time - (elapsed_mins * 60))\n",
    "    return elapsed_mins, elapsed_secs"
   ]
  },
  {
   "cell_type": "code",
   "execution_count": 93,
   "metadata": {},
   "outputs": [
    {
     "name": "stdout",
     "output_type": "stream",
     "text": [
      "Epoch: 01 | Epoch Time: 0m 1s\n",
      "\tTrain Loss: 1.338 | Train Acc: 47.59%\n",
      "\t Val. Loss: 0.941 |  Val. Acc: 67.82%\n",
      "Epoch: 02 | Epoch Time: 0m 1s\n",
      "\tTrain Loss: 0.859 | Train Acc: 69.90%\n",
      "\t Val. Loss: 0.765 |  Val. Acc: 72.09%\n",
      "Epoch: 03 | Epoch Time: 0m 1s\n",
      "\tTrain Loss: 0.637 | Train Acc: 78.15%\n",
      "\t Val. Loss: 0.635 |  Val. Acc: 76.00%\n",
      "Epoch: 04 | Epoch Time: 0m 1s\n",
      "\tTrain Loss: 0.482 | Train Acc: 84.38%\n",
      "\t Val. Loss: 0.567 |  Val. Acc: 79.65%\n",
      "Epoch: 05 | Epoch Time: 0m 1s\n",
      "\tTrain Loss: 0.362 | Train Acc: 89.17%\n",
      "\t Val. Loss: 0.508 |  Val. Acc: 81.01%\n"
     ]
    }
   ],
   "source": [
    "n_epochs = 5\n",
    "best_valid_loss = float('inf')\n",
    "for epoch in range(n_epochs):\n",
    "    start_time = time.time()\n",
    "    train_loss, train_acc = train(model, train_iterator, optimizer, criterion)\n",
    "    valid_loss, valid_acc = evaluate(model, valid_iterator, criterion)\n",
    "    end_time = time.time()\n",
    "    epoch_mins, epoch_secs = epoch_time(start_time, end_time)\n",
    "    if valid_loss < best_valid_loss:\n",
    "        best_valid_loss = valid_loss\n",
    "        torch.save(model.state_dict(), 'tut5-model.pt')\n",
    "    \n",
    "    print(f'Epoch: {epoch+1:02} | Epoch Time: {epoch_mins}m {epoch_secs}s')\n",
    "    print(f'\\tTrain Loss: {train_loss:.3f} | Train Acc: {train_acc*100:.2f}%')\n",
    "    print(f'\\t Val. Loss: {valid_loss:.3f} |  Val. Acc: {valid_acc*100:.2f}%')\n"
   ]
  },
  {
   "cell_type": "code",
   "execution_count": 94,
   "metadata": {},
   "outputs": [
    {
     "name": "stdout",
     "output_type": "stream",
     "text": [
      "Test Loss: 0.405 | Test Acc: 85.73%\n"
     ]
    }
   ],
   "source": [
    "model.load_state_dict(torch.load('tut5-model.pt'))\n",
    "test_loss, test_acc = evaluate(model, test_iterator, criterion)\n",
    "\n",
    "print(f'Test Loss: {test_loss:.3f} | Test Acc: {test_acc*100:.2f}%')"
   ]
  },
  {
   "cell_type": "code",
   "execution_count": 102,
   "metadata": {},
   "outputs": [],
   "source": [
    "import spacy\n",
    "nlp = spacy.load('en_core_web_sm')\n",
    "def predict_class(model , sentence , min_len = 4):\n",
    "    model.eval()\n",
    "    tokenized = [tok.text for tok in nlp.tokenizer(sentence)]\n",
    "    if len(tokenized) < min_len:\n",
    "        tokenized += ['<pad>']*(min_len-len(tokenized))\n",
    "    indexed = [text.vocab.stoi[t] for t in tokenized]\n",
    "    tensor = torch.LongTensor(indexed).to(device)\n",
    "    tensor = tensor.unsqueeze(1)\n",
    "#     preds = model.unsqueeze(1)\n",
    "    preds = model(tensor)\n",
    "    max_preds =  preds.argmax(dim = 1)\n",
    "    return max_preds.item()"
   ]
  },
  {
   "cell_type": "code",
   "execution_count": 105,
   "metadata": {},
   "outputs": [
    {
     "name": "stdout",
     "output_type": "stream",
     "text": [
      "Predicted class is: 2 = DESC\n"
     ]
    }
   ],
   "source": [
    "pred_class = predict_class(model, \"where can i find the house?\")\n",
    "print(f'Predicted class is: {pred_class} = {label.vocab.itos[pred_class]}')"
   ]
  },
  {
   "cell_type": "code",
   "execution_count": 101,
   "metadata": {},
   "outputs": [
    {
     "data": {
      "text/plain": [
       "988"
      ]
     },
     "execution_count": 101,
     "metadata": {},
     "output_type": "execute_result"
    }
   ],
   "source": [
    "sentence = ['i have a fish !']\n",
    "tokenized = [tok.text for tok in nlp.tokenizer(sentence)]\n",
    "if len(tokenized) < min_len:\n",
    "    tokenized += ['<pad>']*(min_len-len(tokenized))\n",
    "indexed = [text.vocab.stoi[t] for t in tokenized]\n",
    "tensor = torch.LongTensor(indexed).to(device)\n",
    "tensor = tensor.unsqueeze(1)"
   ]
  },
  {
   "cell_type": "code",
   "execution_count": null,
   "metadata": {},
   "outputs": [],
   "source": []
  }
 ],
 "metadata": {
  "kernelspec": {
   "display_name": "Python 3",
   "language": "python",
   "name": "python3"
  },
  "language_info": {
   "codemirror_mode": {
    "name": "ipython",
    "version": 3
   },
   "file_extension": ".py",
   "mimetype": "text/x-python",
   "name": "python",
   "nbconvert_exporter": "python",
   "pygments_lexer": "ipython3",
   "version": "3.8.5"
  }
 },
 "nbformat": 4,
 "nbformat_minor": 4
}
