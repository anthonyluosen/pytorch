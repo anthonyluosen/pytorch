{
 "cells": [
  {
   "cell_type": "markdown",
   "metadata": {},
   "source": [
    "## Notes:\n",
    "introduction:<br>\n",
    "we could easily figure out that fasttext was much more faster than bidreactional lstm or bert when training <br>\n",
    "and get the high accuracy at the same time!<br>\n",
    "But the flaw was it could just performce really well on the relatively short sentence,<br>\n",
    "here are the structure of the model, it was much different than the lstm and rnn but it also use the <br>\n",
    "wordvec to get better understanding of the text！<br>\n",
    "## Structure:\n",
    "parallel trainning make it faster!<br>\n",
    "like the sentence 200*100(wordvec has 100dim) and sent it to the model,it use 200*1 pooling kernel and we get <br>\n",
    "vector 100*1 than send it to the linear function and softmax function !\n"
   ]
  },
  {
   "cell_type": "code",
   "execution_count": 30,
   "metadata": {},
   "outputs": [
    {
     "data": {
      "text/plain": [
       "['i', 'like', 'eat', 'hambuger', 'eat hambuger', 'like eat', 'i like']"
      ]
     },
     "execution_count": 30,
     "metadata": {},
     "output_type": "execute_result"
    }
   ],
   "source": [
    "def generate_bigrams(x):\n",
    "    n_grams = set(zip(*[x[i:] for i in range(2)]))\n",
    "    for i in n_grams:\n",
    "        x.append(\" \".join(i))\n",
    "    return x\n",
    "n = ['i' , 'like' , 'eat' , 'hambuger']\n",
    "generate_bigrams(n)"
   ]
  },
  {
   "cell_type": "code",
   "execution_count": 31,
   "metadata": {},
   "outputs": [],
   "source": [
    "import torch\n",
    "from torchtext.legacy import data\n",
    "from torchtext.legacy import datasets\n",
    "\n",
    "SEED = 1234\n",
    "\n",
    "torch.manual_seed(SEED)\n",
    "torch.backends.cudnn.deterministic = True\n",
    "\n",
    "TEXT = data.Field(tokenize = 'spacy',\n",
    "                  tokenizer_language = 'en_core_web_sm',\n",
    "                  preprocessing = generate_bigrams)\n",
    "\n",
    "LABEL = data.LabelField(dtype = torch.float)"
   ]
  },
  {
   "cell_type": "code",
   "execution_count": 32,
   "metadata": {},
   "outputs": [],
   "source": [
    "import random\n",
    "\n",
    "train_data, test_data = datasets.IMDB.splits(TEXT, LABEL)\n",
    "\n",
    "train_data, valid_data = train_data.split(random_state = random.seed(SEED))"
   ]
  },
  {
   "cell_type": "code",
   "execution_count": 42,
   "metadata": {},
   "outputs": [
    {
     "name": "stdout",
     "output_type": "stream",
     "text": [
      "This movie has got to be one of the worst I have ever seen make it to DVD ! ! ! The story line might have clicked if the film had more funding and writers that would have cut the nonsense and sickly scenes that I highly caution parents on .... But the story line is like a loose cannon . If there was such a thing as a drive thru movie maker - this one would have sprung from that . It reminded me a lot of the quickie films that were put out in the 1960 's , poor script writing and filming . < br /><br />The only sensible characters in the whole movie was the bartender and beaver . The rest of the film , could have easily been made by middle school children . I give this film a rating of 1 as it is truly awful and left my entire family with a sense of being cheated . My advice - Don't Watch It ! ! ! I have poor script made by < br of 1 and sickly 's , has got sprung from . My the worst middle school highly caution one would make it a thing as a sensible characters .... But my entire the bartender was such to be with a 1 as sickly scenes a sense the nonsense loose cannon give this I highly film a left my worst I that would and beaver of the It reminded have clicked family with is truly have ever have sprung Don't Watch . If filming . Watch It advice - ! The reminded me as it This movie writers that sense of films that to DVD bartender and thru movie movie maker It ! movie has scenes that line is there was . The easily been a drive caution parents thing as was the cannon . me a film had If there rating of But the got to it to drive thru writing and and writers line might from that have easily . I could have cheated . My advice would have been made nonsense and seen make by middle a rating might have film , characters in movie was that . />The only . It The story be one of being awful and the quickie ever seen children . being cheated in the parents on beaver . I give the story school children entire family the film this one like a The rest the whole story line , poor . < cut the that were a lot it is is like were put maker - ! ! lot of put out out in /><br />The and left - Don't only sensible the 1960 more funding DVD ! script writing and filming if the one of , could br /><br such a - this rest of funding and quickie films truly awful that I this film had more on .... whole movie a loose clicked if have cut 1960 's\n",
      "17500   7500\n"
     ]
    }
   ],
   "source": [
    "print(' '.join(vars(train_data[0])['text']))\n",
    "print(len(train_data) , ' ' , len(valid_data))"
   ]
  },
  {
   "cell_type": "code",
   "execution_count": null,
   "metadata": {},
   "outputs": [],
   "source": []
  },
  {
   "cell_type": "code",
   "execution_count": 43,
   "metadata": {},
   "outputs": [],
   "source": [
    "MAX_VOCAB_SIZE = 25_000\n",
    "\n",
    "TEXT.build_vocab(train_data, \n",
    "                 max_size = MAX_VOCAB_SIZE, \n",
    "                 vectors = \"glove.6B.100d\", \n",
    "                 unk_init = torch.Tensor.normal_)\n",
    "\n",
    "LABEL.build_vocab(train_data)\n",
    "\n",
    "BATCH_SIZE = 64\n",
    "\n",
    "device = torch.device('cuda' if torch.cuda.is_available() else 'cpu')\n",
    "\n",
    "train_iterator, valid_iterator, test_iterator = data.BucketIterator.splits(\n",
    "    (train_data, valid_data, test_data), \n",
    "    batch_size = BATCH_SIZE, \n",
    "    device = device)"
   ]
  },
  {
   "cell_type": "code",
   "execution_count": 86,
   "metadata": {},
   "outputs": [
    {
     "name": "stdout",
     "output_type": "stream",
     "text": [
      "dict_keys(['batch_size', 'dataset', 'fields', 'input_fields', 'target_fields', 'text', 'label'])\n",
      "{'batch_size': 64, 'dataset': <torchtext.legacy.data.dataset.Dataset object at 0x000002998800A070>, 'fields': dict_keys(['text', 'label']), 'input_fields': ['text'], 'target_fields': ['label'], 'text': tensor([[   11,    11,   370,  ...,   358,   176,    68],\n",
      "        [  688,   319,     6,  ...,    52,  9938,    22],\n",
      "        [    8,    16,  2873,  ...,    98, 10521,    15],\n",
      "        ...,\n",
      "        [    1,     1,     1,  ...,     1,     1,     1],\n",
      "        [    1,     1,     1,  ...,     1,     1,     1],\n",
      "        [    1,     1,     1,  ...,     1,     1,     1]]), 'label': tensor([1., 0., 0., 0., 0., 0., 0., 0., 1., 0., 0., 0., 1., 1., 0., 1., 1., 1.,\n",
      "        0., 0., 0., 0., 1., 1., 0., 1., 0., 1., 1., 0., 1., 1., 0., 1., 1., 0.,\n",
      "        0., 0., 0., 0., 0., 1., 1., 1., 0., 1., 1., 0., 0., 0., 1., 0., 0., 1.,\n",
      "        0., 0., 1., 1., 0., 1., 1., 0., 1., 1.])}\n",
      "tensor([[   11,    11,   370,  ...,   358,   176,    68],\n",
      "        [  688,   319,     6,  ...,    52,  9938,    22],\n",
      "        [    8,    16,  2873,  ...,    98, 10521,    15],\n",
      "        ...,\n",
      "        [    1,     1,     1,  ...,     1,     1,     1],\n",
      "        [    1,     1,     1,  ...,     1,     1,     1],\n",
      "        [    1,     1,     1,  ...,     1,     1,     1]])\n",
      "torch.Size([2305, 64])\n",
      "336\n"
     ]
    }
   ],
   "source": [
    "# see the structure of item after bucketiterator\n",
    "for i in train_iterator:\n",
    "    print((vars(i)).keys())\n",
    "    print((vars(i)))\n",
    "    print((vars(i))['text'])\n",
    "    print((vars(i))['text'].shape)\n",
    "    print(len(vars(train_data[0])['text']))\n",
    "    break"
   ]
  },
  {
   "cell_type": "code",
   "execution_count": 56,
   "metadata": {},
   "outputs": [],
   "source": [
    "import torch.nn as nn \n",
    "import torch.nn.functional as F\n",
    "\n",
    "class FastText(nn.Module):\n",
    "    def __init__(self , vocab_size , embedding_dim , output_dim , pad_idx):\n",
    "        super().__init__()\n",
    "        self.embedding = nn.Embedding(vocab_size , embedding_dim , pad_idx)\n",
    "        \n",
    "        self.fuc = nn.Linear(embedding_dim , output_dim)\n",
    "        \n",
    "    def forward(self , text):\n",
    "        # sentence shape = [sen lence , batch size]\n",
    "        embedded = self.embedding(text)\n",
    "        \n",
    "        #embedded shape = [sentence len , batch size , embedding len]\n",
    "        \n",
    "        embedded = embedded.permute(1,0,2)\n",
    "        \n",
    "        #shape = batch_size , sen len , embedding len\n",
    "        \n",
    "        pooled = F.avg_pool2d(embedded , (embedded.shape[1] , 1)).squeeze(1)\n",
    "        \n",
    "        #shape = batch size , sen embedding len\n",
    "        return self.fuc(pooled)"
   ]
  },
  {
   "cell_type": "code",
   "execution_count": 57,
   "metadata": {},
   "outputs": [],
   "source": [
    "INPUT_DIM = len(TEXT.vocab)\n",
    "EMBEDDING_DIM = 100\n",
    "OUTPUT_DIM = 1\n",
    "PAD_IDX = TEXT.vocab.stoi[TEXT.pad_token] #  1\n",
    "\n",
    "model = FastText(INPUT_DIM, EMBEDDING_DIM, OUTPUT_DIM, PAD_IDX)"
   ]
  },
  {
   "cell_type": "code",
   "execution_count": 61,
   "metadata": {},
   "outputs": [
    {
     "data": {
      "text/plain": [
       "dict_keys(['freqs', 'itos', 'unk_index', 'stoi', 'vectors'])"
      ]
     },
     "execution_count": 61,
     "metadata": {},
     "output_type": "execute_result"
    }
   ],
   "source": [
    "vars(TEXT.vocab).keys()"
   ]
  },
  {
   "cell_type": "code",
   "execution_count": 62,
   "metadata": {},
   "outputs": [
    {
     "name": "stdout",
     "output_type": "stream",
     "text": [
      "The model has 2,500,301 trainable parameters\n"
     ]
    }
   ],
   "source": [
    "def count_parameters(model):\n",
    "    return sum(p.numel() for p in model.parameters() if p.requires_grad)\n",
    "\n",
    "print(f'The model has {count_parameters(model):,} trainable parameters')"
   ]
  },
  {
   "cell_type": "code",
   "execution_count": 63,
   "metadata": {},
   "outputs": [
    {
     "data": {
      "text/plain": [
       "tensor([[-0.1117, -0.4966,  0.1631,  ...,  1.2647, -0.2753, -0.1325],\n",
       "        [-0.8555, -0.7208,  1.3755,  ...,  0.0825, -1.1314,  0.3997],\n",
       "        [-0.0382, -0.2449,  0.7281,  ..., -0.1459,  0.8278,  0.2706],\n",
       "        ...,\n",
       "        [ 0.5844, -0.0240, -0.0770,  ..., -1.6428, -0.1380,  0.2442],\n",
       "        [ 0.9874, -0.3359,  1.8736,  ..., -0.2993, -0.3686,  0.9624],\n",
       "        [ 0.4455,  0.1342, -2.3334,  ...,  0.9246,  0.3400, -1.0022]])"
      ]
     },
     "execution_count": 63,
     "metadata": {},
     "output_type": "execute_result"
    }
   ],
   "source": [
    "pretrained_embeddings = TEXT.vocab.vectors\n",
    "\n",
    "model.embedding.weight.data.copy_(pretrained_embeddings)"
   ]
  },
  {
   "cell_type": "code",
   "execution_count": 67,
   "metadata": {},
   "outputs": [],
   "source": [
    "UNK_IDX = TEXT.vocab.stoi[TEXT.unk_token] #  0\n",
    "\n",
    "model.embedding.weight.data[UNK_IDX] = torch.zeros(EMBEDDING_DIM)\n",
    "model.embedding.weight.data[PAD_IDX] = torch.zeros(EMBEDDING_DIM)"
   ]
  },
  {
   "cell_type": "code",
   "execution_count": 71,
   "metadata": {},
   "outputs": [],
   "source": [
    "import torch.optim as optim\n",
    "\n",
    "optimizer = optim.Adam(model.parameters())\n",
    "criterion = nn.BCEWithLogitsLoss()\n",
    "\n",
    "model = model.to(device)\n",
    "criterion = criterion.to(device)\n",
    "def binary_accuracy(preds, y):\n",
    "    \"\"\"\n",
    "    Returns accuracy per batch, i.e. if you get 8/10 right, this returns 0.8, NOT 8\n",
    "    \"\"\"\n",
    "\n",
    "    #round predictions to the closest integer\n",
    "    rounded_preds = torch.round(torch.sigmoid(preds))\n",
    "    correct = (rounded_preds == y).float() #convert into float for division \n",
    "    acc = correct.sum() / len(correct)\n",
    "    return acc"
   ]
  },
  {
   "cell_type": "code",
   "execution_count": 72,
   "metadata": {},
   "outputs": [],
   "source": [
    "def train(model, iterator, optimizer, criterion):\n",
    "    \n",
    "    epoch_loss = 0\n",
    "    epoch_acc = 0\n",
    "    \n",
    "    model.train()\n",
    "    \n",
    "    for batch in iterator:\n",
    "        \n",
    "        optimizer.zero_grad()\n",
    "        \n",
    "        predictions = model(batch.text).squeeze(1)\n",
    "        \n",
    "        loss = criterion(predictions, batch.label)\n",
    "        \n",
    "        acc = binary_accuracy(predictions, batch.label)\n",
    "        \n",
    "        loss.backward()\n",
    "        \n",
    "        optimizer.step()\n",
    "        \n",
    "        epoch_loss += loss.item()\n",
    "        epoch_acc += acc.item()\n",
    "        \n",
    "    return epoch_loss / len(iterator), epoch_acc / len(iterator)"
   ]
  },
  {
   "cell_type": "code",
   "execution_count": 73,
   "metadata": {},
   "outputs": [],
   "source": [
    "def evaluate(model, iterator, criterion):\n",
    "    \n",
    "    epoch_loss = 0\n",
    "    epoch_acc = 0\n",
    "    \n",
    "    model.eval()\n",
    "    \n",
    "    with torch.no_grad():\n",
    "    \n",
    "        for batch in iterator:\n",
    "\n",
    "            predictions = model(batch.text).squeeze(1)\n",
    "            \n",
    "            loss = criterion(predictions, batch.label)\n",
    "            \n",
    "            acc = binary_accuracy(predictions, batch.label)\n",
    "\n",
    "            epoch_loss += loss.item()\n",
    "            epoch_acc += acc.item()\n",
    "        \n",
    "    return epoch_loss / len(iterator), epoch_acc / len(iterator)"
   ]
  },
  {
   "cell_type": "code",
   "execution_count": 74,
   "metadata": {},
   "outputs": [],
   "source": [
    "import time\n",
    "\n",
    "def epoch_time(start_time, end_time):\n",
    "    elapsed_time = end_time - start_time\n",
    "    elapsed_mins = int(elapsed_time / 60)\n",
    "    elapsed_secs = int(elapsed_time - (elapsed_mins * 60))\n",
    "    return elapsed_mins, elapsed_secs"
   ]
  },
  {
   "cell_type": "code",
   "execution_count": 75,
   "metadata": {},
   "outputs": [
    {
     "name": "stdout",
     "output_type": "stream",
     "text": [
      "Epoch: 01 | Epoch Time: 1m 29s\n",
      "\tTrain Loss: 0.686 | Train Acc: 63.33%\n",
      "\t Val. Loss: 0.628 |  Val. Acc: 70.79%\n",
      "Epoch: 02 | Epoch Time: 1m 42s\n",
      "\tTrain Loss: 0.643 | Train Acc: 73.76%\n",
      "\t Val. Loss: 0.501 |  Val. Acc: 76.36%\n",
      "Epoch: 03 | Epoch Time: 1m 37s\n",
      "\tTrain Loss: 0.567 | Train Acc: 79.69%\n",
      "\t Val. Loss: 0.433 |  Val. Acc: 80.54%\n",
      "Epoch: 04 | Epoch Time: 1m 15s\n",
      "\tTrain Loss: 0.490 | Train Acc: 84.34%\n",
      "\t Val. Loss: 0.389 |  Val. Acc: 83.96%\n",
      "Epoch: 05 | Epoch Time: 1m 3s\n",
      "\tTrain Loss: 0.429 | Train Acc: 87.04%\n",
      "\t Val. Loss: 0.376 |  Val. Acc: 85.86%\n"
     ]
    }
   ],
   "source": [
    "N_EPOCHS = 5\n",
    "\n",
    "best_valid_loss = float('inf')\n",
    "\n",
    "for epoch in range(N_EPOCHS):\n",
    "\n",
    "    start_time = time.time()\n",
    "    \n",
    "    train_loss, train_acc = train(model, train_iterator, optimizer, criterion)\n",
    "    valid_loss, valid_acc = evaluate(model, valid_iterator, criterion)\n",
    "    \n",
    "    end_time = time.time()\n",
    "\n",
    "    epoch_mins, epoch_secs = epoch_time(start_time, end_time)\n",
    "    \n",
    "    if valid_loss < best_valid_loss:\n",
    "        best_valid_loss = valid_loss\n",
    "        torch.save(model.state_dict(), 'tut3-model.pt')\n",
    "    \n",
    "    print(f'Epoch: {epoch+1:02} | Epoch Time: {epoch_mins}m {epoch_secs}s')\n",
    "    print(f'\\tTrain Loss: {train_loss:.3f} | Train Acc: {train_acc*100:.2f}%')\n",
    "    print(f'\\t Val. Loss: {valid_loss:.3f} |  Val. Acc: {valid_acc*100:.2f}%')"
   ]
  },
  {
   "cell_type": "code",
   "execution_count": 76,
   "metadata": {},
   "outputs": [
    {
     "name": "stdout",
     "output_type": "stream",
     "text": [
      "Test Loss: 0.390 | Test Acc: 85.34%\n"
     ]
    }
   ],
   "source": [
    "model.load_state_dict(torch.load('tut3-model.pt'))\n",
    "\n",
    "test_loss, test_acc = evaluate(model, test_iterator, criterion)\n",
    "\n",
    "print(f'Test Loss: {test_loss:.3f} | Test Acc: {test_acc*100:.2f}%')\n",
    "import spacy\n",
    "nlp = spacy.load('en_core_web_sm')\n",
    "\n",
    "def predict_sentiment(model, sentence):\n",
    "    model.eval()\n",
    "    tokenized = generate_bigrams([tok.text for tok in nlp.tokenizer(sentence)])\n",
    "    indexed = [TEXT.vocab.stoi[t] for t in tokenized]\n",
    "    tensor = torch.LongTensor(indexed).to(device)\n",
    "    tensor = tensor.unsqueeze(1)\n",
    "    prediction = torch.sigmoid(model(tensor))\n",
    "    return prediction.item()"
   ]
  },
  {
   "cell_type": "code",
   "execution_count": 77,
   "metadata": {},
   "outputs": [
    {
     "data": {
      "text/plain": [
       "0.999998927116394"
      ]
     },
     "execution_count": 77,
     "metadata": {},
     "output_type": "execute_result"
    }
   ],
   "source": [
    "predict_sentiment(model , 'this film is fucking awesome')"
   ]
  },
  {
   "cell_type": "code",
   "execution_count": 79,
   "metadata": {},
   "outputs": [
    {
     "data": {
      "text/plain": [
       "1.4799063667234047e-12"
      ]
     },
     "execution_count": 79,
     "metadata": {},
     "output_type": "execute_result"
    }
   ],
   "source": [
    "predict_sentiment(model , 'i feel bad')"
   ]
  },
  {
   "cell_type": "code",
   "execution_count": 91,
   "metadata": {},
   "outputs": [
    {
     "name": "stdout",
     "output_type": "stream",
     "text": [
      "tensor([[[-1.5810, -0.8412, -0.8202],\n",
      "         [-1.1554,  0.1725,  0.6804],\n",
      "         [-0.7392,  0.0038,  1.1208],\n",
      "         [-0.0988,  0.7145,  0.2685]],\n",
      "\n",
      "        [[-0.7392,  0.0038,  1.1208],\n",
      "         [ 0.6734, -0.8284, -0.2839],\n",
      "         [-1.1554,  0.1725,  0.6804],\n",
      "         [-0.8718, -0.1155, -1.3543]]], grad_fn=<EmbeddingBackward>)\n",
      "torch.Size([2, 4, 3])\n"
     ]
    }
   ],
   "source": [
    "# an Embedding module containing 10 tensors of size 3\n",
    "embedding = nn.Embedding(10, 3)\n",
    "input1 = torch.LongTensor([[1,2,4,5],[4,3,2,9]])\n",
    "print(embedding(input1))\n",
    "print(embedding(input1).shape)"
   ]
  },
  {
   "cell_type": "code",
   "execution_count": 95,
   "metadata": {},
   "outputs": [
    {
     "name": "stdout",
     "output_type": "stream",
     "text": [
      "tensor([[[ 0.0000,  0.0000,  0.0000],\n",
      "         [-1.1740, -2.6945, -0.7820],\n",
      "         [ 1.2379,  1.9050,  0.1264],\n",
      "         [ 0.4047, -0.3955, -1.5209]],\n",
      "\n",
      "        [[ 1.2379,  1.9050,  0.1264],\n",
      "         [ 0.6784,  0.3445,  1.8218],\n",
      "         [-1.1740, -2.6945, -0.7820],\n",
      "         [-1.4771, -0.0763,  0.5093]]], grad_fn=<EmbeddingBackward>)\n",
      "torch.Size([2, 4, 3])\n"
     ]
    }
   ],
   "source": [
    "# an Embedding module containing 10 tensors of size 3\n",
    "embedding = nn.Embedding(10, 3 ,PAD_IDX)\n",
    "input1 = torch.LongTensor([[1,2,4,5],[4,3,2,9]])\n",
    "print(embedding(input1))\n",
    "print(embedding(input1).shape)"
   ]
  },
  {
   "cell_type": "code",
   "execution_count": null,
   "metadata": {},
   "outputs": [],
   "source": []
  }
 ],
 "metadata": {
  "kernelspec": {
   "display_name": "Python 3",
   "language": "python",
   "name": "python3"
  },
  "language_info": {
   "codemirror_mode": {
    "name": "ipython",
    "version": 3
   },
   "file_extension": ".py",
   "mimetype": "text/x-python",
   "name": "python",
   "nbconvert_exporter": "python",
   "pygments_lexer": "ipython3",
   "version": "3.8.5"
  }
 },
 "nbformat": 4,
 "nbformat_minor": 4
}
